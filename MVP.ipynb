{
 "cells": [
  {
   "cell_type": "markdown",
   "metadata": {},
   "source": [
    "# IMDb Regression\n",
    "\n",
    "**Goal of the project**\n",
    "The core objective of this project is to predict the revenue for each movie through the actor score.\n",
    "\n",
    "\n"
   ]
  },
  {
   "cell_type": "markdown",
   "metadata": {},
   "source": [
    "## pre-work\n",
    "\n",
    "1.  Web Scrapping two website IMDB Website and Numbers website.\n",
    "2.  Dropped all duplicated rows and unneeded columns.\n",
    "3.  Removed nulls.\n",
    "4.  Converting object-type columns into numeric.\n"
   ]
  },
  {
   "cell_type": "markdown",
   "metadata": {},
   "source": [
    "we scraped data from two websites: IMDB Website and Numbers website. Rows were created for 10,000 movies represented in IMDB Website, the columns represented: movie title, genres, IMDB Rating, Budget, Actors, Runtime, and MPAA Rating. As for the data obtained from Numbers website, they were regarding the top 500 most paid actors. After that, we created a column to calculate the number of top 500 actors participating in each movie. "
   ]
  },
  {
   "cell_type": "markdown",
   "metadata": {},
   "source": [
    "\n",
    "The number of columns and rows before cleaning were **51 and 10,000** After cleaning up the data the number of columns and rows are **24 and 1500**\n"
   ]
  },
  {
   "cell_type": "markdown",
   "metadata": {},
   "source": [
    "\n",
    "<img src=\"https://github.com/AfnanAlsirhani/Linear-Regression/blob/main/heatmapforIMDB%20(1).png\" width=\"600\"/>\n",
    "\n",
    "The correlation between all numeric columns was calculated. As shown in the heatmap graph there are a lot of columns that are highly correlated with another for example Budget and Worldwide Gross.\n",
    "\n",
    "<img src=\"https://github.com/AfnanAlsirhani/Linear-Regression/blob/main/image.png\" width=\"600\"/>\n",
    "\n",
    "you can notice in the above graph athe high correlation  between budget with gross, the adventures movies had the highest budget.\n",
    "\n",
    "## Future work:\n",
    "building a **Linear Regression Model** to predict the revenues."
   ]
  },
  {
   "cell_type": "markdown",
   "metadata": {},
   "source": []
  }
 ],
 "metadata": {
  "kernelspec": {
   "display_name": "Python 3",
   "language": "python",
   "name": "python3"
  },
  "language_info": {
   "codemirror_mode": {
    "name": "ipython",
    "version": 3
   },
   "file_extension": ".py",
   "mimetype": "text/x-python",
   "name": "python",
   "nbconvert_exporter": "python",
   "pygments_lexer": "ipython3",
   "version": "3.8.5"
  }
 },
 "nbformat": 4,
 "nbformat_minor": 4
}
